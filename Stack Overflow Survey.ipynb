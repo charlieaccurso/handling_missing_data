{
 "cells": [
  {
   "cell_type": "markdown",
   "id": "ec36f2cf",
   "metadata": {},
   "source": [
    "# Handling Missing Data"
   ]
  },
  {
   "cell_type": "markdown",
   "id": "d0fa87ef",
   "metadata": {},
   "source": [
    "In this project, I demonstrate some methods for hangling missing data. The dataset I use in this project is from Stack Overflow's developer survey. The data and project outline was provided by Codecademy."
   ]
  },
  {
   "cell_type": "markdown",
   "id": "5519d363",
   "metadata": {},
   "source": [
    "## Basic Exploratory Data Analysis"
   ]
  },
  {
   "cell_type": "markdown",
   "id": "a442cdac",
   "metadata": {},
   "source": [
    "There are several things we want to do before diving into questions about the dataset's variables. We need to:\n",
    "\n",
    "1. Load the data\n",
    "2. Inspect the columns\n",
    "3. Inspect the head\n",
    "4. Get the row count for each variable\n",
    "5. Run simple summary stats using .describe()"
   ]
  },
  {
   "cell_type": "code",
   "execution_count": 1,
   "id": "1c6d2b66",
   "metadata": {},
   "outputs": [],
   "source": [
    "import pandas as pd\n",
    "import seaborn as sns\n",
    "import matplotlib.pyplot as plt"
   ]
  },
  {
   "cell_type": "code",
   "execution_count": 2,
   "id": "f8fc8255",
   "metadata": {},
   "outputs": [
    {
     "name": "stderr",
     "output_type": "stream",
     "text": [
      "C:\\Users\\caccu\\AppData\\Local\\Temp\\ipykernel_9712\\1782012707.py:2: DtypeWarning: Columns (18,19,20) have mixed types. Specify dtype option on import or set low_memory=False.\n",
      "  df= pd.read_csv('developer_dataset.csv')\n"
     ]
    }
   ],
   "source": [
    "# load the data\n",
    "df= pd.read_csv('developer_dataset.csv')\n",
    "# a warning results from this statement due to mixed typing in columns 18-20. These columns are later deleted."
   ]
  },
  {
   "cell_type": "code",
   "execution_count": 3,
   "id": "9a16227c",
   "metadata": {},
   "outputs": [
    {
     "name": "stdout",
     "output_type": "stream",
     "text": [
      "Index(['RespondentID', 'Year', 'Country', 'Employment', 'UndergradMajor',\n",
      "       'DevType', 'LanguageWorkedWith', 'LanguageDesireNextYear',\n",
      "       'DatabaseWorkedWith', 'DatabaseDesireNextYear', 'PlatformWorkedWith',\n",
      "       'PlatformDesireNextYear', 'Hobbyist', 'OrgSize', 'YearsCodePro',\n",
      "       'JobSeek', 'ConvertedComp', 'WorkWeekHrs', 'NEWJobHunt',\n",
      "       'NEWJobHuntResearch', 'NEWLearn'],\n",
      "      dtype='object')\n"
     ]
    }
   ],
   "source": [
    "# inspect the columns\n",
    "print(df.columns)"
   ]
  },
  {
   "cell_type": "code",
   "execution_count": 4,
   "id": "0259aab0",
   "metadata": {},
   "outputs": [
    {
     "name": "stdout",
     "output_type": "stream",
     "text": [
      "   RespondentID  Year        Country          Employment  \\\n",
      "0             1  2018  United States  Employed full-time   \n",
      "1             1  2019  United States  Employed full-time   \n",
      "2             1  2020  United States  Employed full-time   \n",
      "3             2  2018  United States  Employed full-time   \n",
      "4             2  2019  United States  Employed full-time   \n",
      "\n",
      "                                      UndergradMajor  \\\n",
      "0  Computer science, computer engineering, or sof...   \n",
      "1  Computer science, computer engineering, or sof...   \n",
      "2  Computer science, computer engineering, or sof...   \n",
      "3  Computer science, computer engineering, or sof...   \n",
      "4  Computer science, computer engineering, or sof...   \n",
      "\n",
      "                                             DevType  \\\n",
      "0           Engineering manager;Full-stack developer   \n",
      "1                              Developer, full-stack   \n",
      "2                                                NaN   \n",
      "3                               Full-stack developer   \n",
      "4  Data or business analyst;Database administrato...   \n",
      "\n",
      "                                  LanguageWorkedWith  \\\n",
      "0                                                NaN   \n",
      "1                                C;C++;C#;Python;SQL   \n",
      "2                                  HTML/CSS;Ruby;SQL   \n",
      "3   C#;JavaScript;SQL;TypeScript;HTML;CSS;Bash/Shell   \n",
      "4  Bash/Shell/PowerShell;HTML/CSS;JavaScript;PHP;...   \n",
      "\n",
      "                              LanguageDesireNextYear  \\\n",
      "0                                                NaN   \n",
      "1                                C;C#;JavaScript;SQL   \n",
      "2                                    Java;Ruby;Scala   \n",
      "3   C#;JavaScript;SQL;TypeScript;HTML;CSS;Bash/Shell   \n",
      "4  Bash/Shell/PowerShell;HTML/CSS;JavaScript;Rust...   \n",
      "\n",
      "                                  DatabaseWorkedWith  \\\n",
      "0                                                NaN   \n",
      "1                                       MySQL;SQLite   \n",
      "2                      MySQL;PostgreSQL;Redis;SQLite   \n",
      "3  SQL Server;Microsoft Azure (Tables, CosmosDB, ...   \n",
      "4                  Couchbase;DynamoDB;Firebase;MySQL   \n",
      "\n",
      "                              DatabaseDesireNextYear  ...  \\\n",
      "0                                                NaN  ...   \n",
      "1                                       MySQL;SQLite  ...   \n",
      "2                                   MySQL;PostgreSQL  ...   \n",
      "3  SQL Server;Microsoft Azure (Tables, CosmosDB, ...  ...   \n",
      "4                               Firebase;MySQL;Redis  ...   \n",
      "\n",
      "                              PlatformDesireNextYear Hobbyist  \\\n",
      "0                                                NaN      NaN   \n",
      "1                                      Linux;Windows       No   \n",
      "2  Docker;Google Cloud Platform;Heroku;Linux;Windows      Yes   \n",
      "3                                              Azure      NaN   \n",
      "4  Android;AWS;Docker;IBM Cloud or Watson;Linux;S...      Yes   \n",
      "\n",
      "                OrgSize YearsCodePro  \\\n",
      "0                   NaN          NaN   \n",
      "1  100 to 499 employees          1.0   \n",
      "2                   NaN          8.0   \n",
      "3                   NaN          4.0   \n",
      "4    10 to 19 employees          8.0   \n",
      "\n",
      "                                        JobSeek ConvertedComp  WorkWeekHrs  \\\n",
      "0                                           NaN      141000.0          NaN   \n",
      "1  I am not interested in new job opportunities       61000.0         80.0   \n",
      "2                                           NaN           NaN          NaN   \n",
      "3                                           NaN       48000.0          NaN   \n",
      "4  I am not interested in new job opportunities       90000.0         40.0   \n",
      "\n",
      "   NEWJobHunt NEWJobHuntResearch     NEWLearn  \n",
      "0         NaN                NaN          NaN  \n",
      "1         NaN                NaN          NaN  \n",
      "2         NaN                NaN  Once a year  \n",
      "3         NaN                NaN          NaN  \n",
      "4         NaN                NaN          NaN  \n",
      "\n",
      "[5 rows x 21 columns]\n"
     ]
    }
   ],
   "source": [
    "# inspect the head\n",
    "print(df.head())"
   ]
  },
  {
   "cell_type": "code",
   "execution_count": 5,
   "id": "cd643041",
   "metadata": {},
   "outputs": [
    {
     "data": {
      "text/plain": [
       "RespondentID              111209\n",
       "Year                      111209\n",
       "Country                   111209\n",
       "Employment                109425\n",
       "UndergradMajor             98453\n",
       "DevType                   100433\n",
       "LanguageWorkedWith        102018\n",
       "LanguageDesireNextYear     96044\n",
       "DatabaseWorkedWith         85859\n",
       "DatabaseDesireNextYear     74234\n",
       "PlatformWorkedWith         91609\n",
       "PlatformDesireNextYear     85376\n",
       "Hobbyist                   68352\n",
       "OrgSize                    54804\n",
       "YearsCodePro               94793\n",
       "JobSeek                    60556\n",
       "ConvertedComp              91333\n",
       "WorkWeekHrs                51089\n",
       "NEWJobHunt                 19127\n",
       "NEWJobHuntResearch         18683\n",
       "NEWLearn                   24226\n",
       "dtype: int64"
      ]
     },
     "execution_count": 5,
     "metadata": {},
     "output_type": "execute_result"
    }
   ],
   "source": [
    "# get the row count\n",
    "df.count()"
   ]
  },
  {
   "cell_type": "markdown",
   "id": "519ca482",
   "metadata": {},
   "source": [
    "We can see that many of the columns are missing data points. The \"missingness\" of data in these columns will inform how we clean, delete, and/or analyze data later."
   ]
  },
  {
   "cell_type": "code",
   "execution_count": 6,
   "id": "b356cf64",
   "metadata": {},
   "outputs": [
    {
     "data": {
      "text/html": [
       "<div>\n",
       "<style scoped>\n",
       "    .dataframe tbody tr th:only-of-type {\n",
       "        vertical-align: middle;\n",
       "    }\n",
       "\n",
       "    .dataframe tbody tr th {\n",
       "        vertical-align: top;\n",
       "    }\n",
       "\n",
       "    .dataframe thead th {\n",
       "        text-align: right;\n",
       "    }\n",
       "</style>\n",
       "<table border=\"1\" class=\"dataframe\">\n",
       "  <thead>\n",
       "    <tr style=\"text-align: right;\">\n",
       "      <th></th>\n",
       "      <th>RespondentID</th>\n",
       "      <th>Year</th>\n",
       "      <th>YearsCodePro</th>\n",
       "      <th>ConvertedComp</th>\n",
       "      <th>WorkWeekHrs</th>\n",
       "    </tr>\n",
       "  </thead>\n",
       "  <tbody>\n",
       "    <tr>\n",
       "      <th>count</th>\n",
       "      <td>111209.000000</td>\n",
       "      <td>111209.000000</td>\n",
       "      <td>94793.000000</td>\n",
       "      <td>9.133300e+04</td>\n",
       "      <td>51089.000000</td>\n",
       "    </tr>\n",
       "    <tr>\n",
       "      <th>mean</th>\n",
       "      <td>19262.039709</td>\n",
       "      <td>2018.854832</td>\n",
       "      <td>9.547045</td>\n",
       "      <td>1.251777e+05</td>\n",
       "      <td>41.051670</td>\n",
       "    </tr>\n",
       "    <tr>\n",
       "      <th>std</th>\n",
       "      <td>11767.011322</td>\n",
       "      <td>0.777503</td>\n",
       "      <td>7.548931</td>\n",
       "      <td>2.461218e+05</td>\n",
       "      <td>13.833929</td>\n",
       "    </tr>\n",
       "    <tr>\n",
       "      <th>min</th>\n",
       "      <td>1.000000</td>\n",
       "      <td>2018.000000</td>\n",
       "      <td>0.000000</td>\n",
       "      <td>0.000000e+00</td>\n",
       "      <td>1.000000</td>\n",
       "    </tr>\n",
       "    <tr>\n",
       "      <th>25%</th>\n",
       "      <td>9268.000000</td>\n",
       "      <td>2018.000000</td>\n",
       "      <td>4.000000</td>\n",
       "      <td>4.600000e+04</td>\n",
       "      <td>40.000000</td>\n",
       "    </tr>\n",
       "    <tr>\n",
       "      <th>50%</th>\n",
       "      <td>18535.000000</td>\n",
       "      <td>2019.000000</td>\n",
       "      <td>8.000000</td>\n",
       "      <td>7.900000e+04</td>\n",
       "      <td>40.000000</td>\n",
       "    </tr>\n",
       "    <tr>\n",
       "      <th>75%</th>\n",
       "      <td>28347.000000</td>\n",
       "      <td>2019.000000</td>\n",
       "      <td>14.000000</td>\n",
       "      <td>1.200000e+05</td>\n",
       "      <td>42.000000</td>\n",
       "    </tr>\n",
       "    <tr>\n",
       "      <th>max</th>\n",
       "      <td>42857.000000</td>\n",
       "      <td>2020.000000</td>\n",
       "      <td>50.000000</td>\n",
       "      <td>2.000000e+06</td>\n",
       "      <td>475.000000</td>\n",
       "    </tr>\n",
       "  </tbody>\n",
       "</table>\n",
       "</div>"
      ],
      "text/plain": [
       "        RespondentID           Year  YearsCodePro  ConvertedComp   WorkWeekHrs\n",
       "count  111209.000000  111209.000000  94793.000000   9.133300e+04  51089.000000\n",
       "mean    19262.039709    2018.854832      9.547045   1.251777e+05     41.051670\n",
       "std     11767.011322       0.777503      7.548931   2.461218e+05     13.833929\n",
       "min         1.000000    2018.000000      0.000000   0.000000e+00      1.000000\n",
       "25%      9268.000000    2018.000000      4.000000   4.600000e+04     40.000000\n",
       "50%     18535.000000    2019.000000      8.000000   7.900000e+04     40.000000\n",
       "75%     28347.000000    2019.000000     14.000000   1.200000e+05     42.000000\n",
       "max     42857.000000    2020.000000     50.000000   2.000000e+06    475.000000"
      ]
     },
     "execution_count": 6,
     "metadata": {},
     "output_type": "execute_result"
    }
   ],
   "source": [
    "# run simple summary stats\n",
    "df.describe()"
   ]
  },
  {
   "cell_type": "markdown",
   "id": "72faee29",
   "metadata": {},
   "source": [
    "Looking at the simple summary stats, we can see that there are some issues with outliers, such as 475 as the max value for WorkWeekHrs (there are only 168 hours in a week). Looking at that same column, we can see that the vast majority of developers work about 40 hours a week (25th perc. is 40hrs, 75th perc. is only 42hrs)."
   ]
  },
  {
   "cell_type": "markdown",
   "id": "4a01ae99",
   "metadata": {},
   "source": [
    "## Delete Columns with \"Too Much\" Missing Data"
   ]
  },
  {
   "cell_type": "markdown",
   "id": "9dcce9d3",
   "metadata": {},
   "source": [
    "Working with columns that are missing too much data may adversely affect the validity of analyses performed on those columns. Generally, columns missing over 60% of their data are appropriate candidates for deletion. In order to determine what percentage of the data is missing for each column we can run the following code."
   ]
  },
  {
   "cell_type": "code",
   "execution_count": 7,
   "id": "cc683a49",
   "metadata": {},
   "outputs": [
    {
     "name": "stdout",
     "output_type": "stream",
     "text": [
      "RespondentID               0.00\n",
      "Year                       0.00\n",
      "Country                    0.00\n",
      "Employment                 1.60\n",
      "UndergradMajor            11.47\n",
      "DevType                    9.69\n",
      "LanguageWorkedWith         8.26\n",
      "LanguageDesireNextYear    13.64\n",
      "DatabaseWorkedWith        22.79\n",
      "DatabaseDesireNextYear    33.25\n",
      "PlatformWorkedWith        17.62\n",
      "PlatformDesireNextYear    23.23\n",
      "Hobbyist                  38.54\n",
      "OrgSize                   50.72\n",
      "YearsCodePro              14.76\n",
      "JobSeek                   45.55\n",
      "ConvertedComp             17.87\n",
      "WorkWeekHrs               54.06\n",
      "NEWJobHunt                82.80\n",
      "NEWJobHuntResearch        83.20\n",
      "NEWLearn                  78.22\n",
      "dtype: float64\n"
     ]
    }
   ],
   "source": [
    "# get the max value (complete column)\n",
    "max_value= df['RespondentID'].count()\n",
    "\n",
    "# get percent missing data for each column\n",
    "raw_percent= (1 - df.count() / max_value) * 100\n",
    "print(round(raw_percent, 2))"
   ]
  },
  {
   "cell_type": "markdown",
   "id": "714531c5",
   "metadata": {},
   "source": [
    "It is clear that the columns prefixed by NEW are missing substantial amounts of data, so we will drop these columns."
   ]
  },
  {
   "cell_type": "code",
   "execution_count": 8,
   "id": "a0923430",
   "metadata": {},
   "outputs": [],
   "source": [
    "cols_to_drop= ['NEWJobHunt', 'NEWJobHuntResearch', 'NEWLearn']\n",
    "df.drop(cols_to_drop,\n",
    "       axis=1,\n",
    "       inplace=True)"
   ]
  },
  {
   "cell_type": "markdown",
   "id": "7b64062f",
   "metadata": {},
   "source": [
    "## Examine Employment by Country"
   ]
  },
  {
   "cell_type": "markdown",
   "id": "45d33291",
   "metadata": {},
   "source": [
    "We will start off with a column that isn't missing too much data, the Employment column. We want to see if the missing data (only 1.6%) seems to be missing for a predictable reason (MAR - missing at random), or missing completely at random (MCAR). We can assume the data is MCAR if the amount of missing data is roughly proportional to the number of responses received."
   ]
  },
  {
   "cell_type": "markdown",
   "id": "e0246c7e",
   "metadata": {},
   "source": [
    "Let's plot the count of RespondentID by Country."
   ]
  },
  {
   "cell_type": "code",
   "execution_count": 9,
   "id": "80c99d35",
   "metadata": {},
   "outputs": [
    {
     "data": {
      "image/png": "[encoded data removed]",
      "text/plain": [
       "<Figure size 864x432 with 1 Axes>"
      ]
     },
     "metadata": {
      "needs_background": "light"
     },
     "output_type": "display_data"
    },
    {
     "data": {
      "text/plain": [
       "<Figure size 432x288 with 0 Axes>"
      ]
     },
     "metadata": {},
     "output_type": "display_data"
    }
   ],
   "source": [
    "df1= df[['RespondentID','Country']].groupby('Country', as_index=False).count()\n",
    "# print(df1)\n",
    "\n",
    "resp_by_country= sns.catplot(data=df1,\n",
    "                            kind='bar',\n",
    "                            x='Country',\n",
    "                            y='RespondentID',\n",
    "                            height=6,\n",
    "                            aspect=2)\n",
    "plt.show()\n",
    "plt.clf()"
   ]
  },
  {
   "cell_type": "markdown",
   "id": "10364b35",
   "metadata": {},
   "source": [
    "Next we plot the number of *missing* Employment datapoints by country. Ideally, this plot will look proportionally similar to the plot we just created. If this is the case, we can use pairwise deletion to eliminate rows missing values for Employment."
   ]
  },
  {
   "cell_type": "code",
   "execution_count": 10,
   "id": "a6d19772",
   "metadata": {},
   "outputs": [
    {
     "data": {
      "image/png": "[encoded data removed]",
      "text/plain": [
       "<Figure size 864x432 with 1 Axes>"
      ]
     },
     "metadata": {
      "needs_background": "light"
     },
     "output_type": "display_data"
    },
    {
     "data": {
      "text/plain": [
       "<Figure size 432x288 with 0 Axes>"
      ]
     },
     "metadata": {},
     "output_type": "display_data"
    }
   ],
   "source": [
    "df2= df['Employment'].isnull().groupby(df['Country']).sum().reset_index()\n",
    "\n",
    "missing_empl_by_country= sns.catplot(data=df2,\n",
    "                                    kind='bar',\n",
    "                                    x='Country',\n",
    "                                    y='Employment',\n",
    "                                    height=6,\n",
    "                                    aspect=2)\n",
    "plt.show()\n",
    "plt.clf()"
   ]
  },
  {
   "cell_type": "markdown",
   "id": "8677b0ab",
   "metadata": {},
   "source": [
    "Because the bar chart of missing values for Employment is roughly proportional to our plot of respondent counts, we can consider the missing Employment data MCAR. To drop the rows missing Employment data, we can use .dropna() with a subset."
   ]
  },
  {
   "cell_type": "code",
   "execution_count": 11,
   "id": "4d3cba7d",
   "metadata": {},
   "outputs": [],
   "source": [
    "# drop rows missing Employment data\n",
    "df.dropna(subset=['Employment'],\n",
    "         inplace=True,\n",
    "         how='any')\n",
    "\n",
    "# print(df['Employment'].isna().sum())"
   ]
  },
  {
   "cell_type": "markdown",
   "id": "48b6e101",
   "metadata": {},
   "source": [
    "Now that we have dropped rows that are missing Employment data, we can begin to analyze the relationship between types of Employment and Country. To see what the various categories of Employment are, we can print out the unique values:"
   ]
  },
  {
   "cell_type": "code",
   "execution_count": 12,
   "id": "5542075d",
   "metadata": {},
   "outputs": [
    {
     "name": "stdout",
     "output_type": "stream",
     "text": [
      "['Employed full-time' 'Employed part-time'\n",
      " 'Not employed, but looking for work' 'Student'\n",
      " 'Independent contractor, freelancer, or self-employed'\n",
      " 'Not employed, and not looking for work' 'Retired']\n"
     ]
    }
   ],
   "source": [
    "print(df['Employment'].unique())"
   ]
  },
  {
   "cell_type": "markdown",
   "id": "23912d2e",
   "metadata": {},
   "source": [
    "We generate a figure that plots the various Employment categories by country. This will generate seven bar charts since there are seven unique categories in the Employment column."
   ]
  },
  {
   "cell_type": "code",
   "execution_count": 13,
   "id": "da61a021",
   "metadata": {},
   "outputs": [
    {
     "data": {
      "image/png": "[encoded data removed]",
      "text/plain": [
       "<Figure size 4536x432 with 7 Axes>"
      ]
     },
     "metadata": {
      "needs_background": "light"
     },
     "output_type": "display_data"
    },
    {
     "data": {
      "text/plain": [
       "<Figure size 432x288 with 0 Axes>"
      ]
     },
     "metadata": {},
     "output_type": "display_data"
    }
   ],
   "source": [
    "fig_empl_by_country= sns.catplot(x=\"Country\",\n",
    "                                 col=\"Employment\", # organizes plots by categoricals in Employment (of which there are 7)\n",
    "                                 data=df,\n",
    "                                 kind=\"count\",\n",
    "                                 height=6,\n",
    "                                 aspect=1.5)\n",
    "plt.show()\n",
    "plt.clf() "
   ]
  },
  {
   "cell_type": "markdown",
   "id": "d5a997b6",
   "metadata": {},
   "source": [
    "The fact that the vast majority of survey respondents are employed full-time indicates that the data most strongly reflect the preferences of this group. If a client is interested in what developers look for in a job, the analysis of this data will be relevant. To get a better view of the count of full-time employees by country, we can plot the bar chart below:"
   ]
  },
  {
   "cell_type": "code",
   "execution_count": 14,
   "id": "734bd897",
   "metadata": {},
   "outputs": [
    {
     "data": {
      "image/png": "[encoded data removed]",
      "text/plain": [
       "<Figure size 648x432 with 1 Axes>"
      ]
     },
     "metadata": {
      "needs_background": "light"
     },
     "output_type": "display_data"
    },
    {
     "data": {
      "text/plain": [
       "<Figure size 432x288 with 0 Axes>"
      ]
     },
     "metadata": {},
     "output_type": "display_data"
    }
   ],
   "source": [
    "# plot full-time count by country\n",
    "fig_full_by_country= sns.catplot(x=\"Country\",\n",
    "                                 col=\"Employment\",\n",
    "                                 data=df[df['Employment']=='Employed full-time'],\n",
    "                                 kind=\"count\",\n",
    "                                 height=6,\n",
    "                                 aspect=1.5)\n",
    "plt.show()\n",
    "plt.clf()"
   ]
  },
  {
   "cell_type": "markdown",
   "id": "de3ef16d",
   "metadata": {},
   "source": [
    "## Investigating the Distribution of Undergrad Majors"
   ]
  },
  {
   "cell_type": "markdown",
   "id": "1be1b4c1",
   "metadata": {},
   "source": [
    "We recall that the UndergradMajor column is missing about 11% of datapoints across all countries. If we plot the count of missing values by year, we see that all values for the year 2020 are filled in. In this case, we can sort the DataFrame values by RespondentID and Year, and then backfill the values / perform NOCB (Next Observation Carried Backwards)."
   ]
  },
  {
   "cell_type": "code",
   "execution_count": 15,
   "id": "e83bd89a",
   "metadata": {},
   "outputs": [
    {
     "data": {
      "image/png": "[encoded data removed]",
      "text/plain": [
       "<Figure size 288x288 with 1 Axes>"
      ]
     },
     "metadata": {
      "needs_background": "light"
     },
     "output_type": "display_data"
    },
    {
     "data": {
      "text/plain": [
       "<Figure size 432x288 with 0 Axes>"
      ]
     },
     "metadata": {},
     "output_type": "display_data"
    }
   ],
   "source": [
    "# show that the year 2020 is not missing any data for UndergradMajor\n",
    "missing_unde = df['UndergradMajor'].isnull().groupby(df['Year']).sum().reset_index()\n",
    " \n",
    "sns.catplot(x=\"Year\", \n",
    "            y=\"UndergradMajor\",\n",
    "            data=missing_unde, \n",
    "            kind=\"bar\",\n",
    "            height=4,\n",
    "            aspect=1);\n",
    "plt.show()\n",
    "plt.clf()"
   ]
  },
  {
   "cell_type": "code",
   "execution_count": 16,
   "id": "52364138",
   "metadata": {},
   "outputs": [],
   "source": [
    "# sort data by RespondentID and then Year\n",
    "df= df.sort_values(['RespondentID','Year'])\n",
    "\n",
    "# backfill UndergradMajor data\n",
    "df['UndergradMajor'].bfill(axis=0, inplace=True)"
   ]
  },
  {
   "cell_type": "markdown",
   "id": "91d83d49",
   "metadata": {},
   "source": [
    "Next, we isolate the Year and UndergradMajor columns in a new DataFrame, and drop any NaN's that were not backfilled."
   ]
  },
  {
   "cell_type": "code",
   "execution_count": 17,
   "id": "aa94e89c",
   "metadata": {},
   "outputs": [],
   "source": [
    "unde_df= df[['Year','UndergradMajor']]\n",
    "unde_df= unde_df.dropna()"
   ]
  },
  {
   "cell_type": "markdown",
   "id": "621a51ba",
   "metadata": {},
   "source": [
    "We now add a column for each major area and set the row value to True if the major area is present."
   ]
  },
  {
   "cell_type": "code",
   "execution_count": 18,
   "id": "2c00e396",
   "metadata": {},
   "outputs": [],
   "source": [
    "unde_df.loc[unde_df['UndergradMajor'].str.contains('(?i)social science'), 'SocialScience'] = True\n",
    "unde_df.loc[unde_df['UndergradMajor'].str.contains('(?i)natural science'), 'NaturalScience'] = True\n",
    "unde_df.loc[unde_df['UndergradMajor'].str.contains('(?i)computer science'), 'ComSci'] = True\n",
    "unde_df.loc[unde_df['UndergradMajor'].str.contains('(?i)development'), 'ComSci'] = True\n",
    "unde_df.loc[unde_df['UndergradMajor'].str.contains('(?i)another engineering'), 'OtherEng'] = True\n",
    "unde_df.loc[unde_df['UndergradMajor'].str.contains('(?i)never declared'), 'NoMajor'] = True"
   ]
  },
  {
   "cell_type": "markdown",
   "id": "791ea926",
   "metadata": {},
   "source": [
    "We then melt the DataFrame and group the values by year and major."
   ]
  },
  {
   "cell_type": "code",
   "execution_count": 19,
   "id": "6a95f5d8",
   "metadata": {},
   "outputs": [],
   "source": [
    "unde_df= unde_df.melt(id_vars=['Year'], \n",
    "    value_vars=['SocialScience','NaturalScience','ComSci','OtherEng','NoMajor'], \n",
    "    var_name='Major',\n",
    "    value_name='Count')"
   ]
  },
  {
   "cell_type": "code",
   "execution_count": 20,
   "id": "1e5e7167",
   "metadata": {},
   "outputs": [
    {
     "name": "stdout",
     "output_type": "stream",
     "text": [
      "   Year           Major  Count\n",
      "0  2018          ComSci  26521\n",
      "1  2018  NaturalScience   2282\n",
      "2  2018         NoMajor    510\n",
      "3  2018        OtherEng   3275\n",
      "4  2018   SocialScience   1168\n",
      "5  2019          ComSci  26384\n",
      "6  2019  NaturalScience   2293\n",
      "7  2019         NoMajor    582\n",
      "8  2019        OtherEng   3010\n",
      "9  2019   SocialScience   1072\n"
     ]
    }
   ],
   "source": [
    "unde_df.dropna(how='any', inplace=True)\n",
    "unde_df= unde_df.groupby(['Year','Major']).count().reset_index()\n",
    "print(unde_df.head(10))"
   ]
  },
  {
   "cell_type": "code",
   "execution_count": 21,
   "id": "cd4527c8",
   "metadata": {},
   "outputs": [
    {
     "data": {
      "image/png": "[encoded data removed]",
      "text/plain": [
       "<Figure size 3240x432 with 5 Axes>"
      ]
     },
     "metadata": {
      "needs_background": "light"
     },
     "output_type": "display_data"
    },
    {
     "data": {
      "text/plain": [
       "<Figure size 432x288 with 0 Axes>"
      ]
     },
     "metadata": {},
     "output_type": "display_data"
    }
   ],
   "source": [
    "fig_major= sns.catplot(x=\"Year\", y='Count', col=\"Major\",\n",
    "                data=unde_df, kind=\"bar\",\n",
    "                height=6, aspect=1.5)\n",
    "plt.show()\n",
    "plt.clf()"
   ]
  },
  {
   "cell_type": "markdown",
   "id": "7757ea0c",
   "metadata": {},
   "source": [
    "We can see from the bar charts that the vast majority of developers majored in computer science-related field, although the numbers drop off by a significant amount in 2020, indicating that developers from non-computer science backgrounds may be making their way into the developer career. This suggests some people have pursued an education path other than computer science, but still found a job in a developer role."
   ]
  },
  {
   "cell_type": "markdown",
   "id": "fbf614f6",
   "metadata": {},
   "source": [
    "## Understanding the Relationship between Experience and Compensation"
   ]
  },
  {
   "cell_type": "markdown",
   "id": "bc8d9387",
   "metadata": {},
   "source": [
    "In order to investigate the relationship between experience and compensation, we can first create boxplots to show the range of years of experience (YearsCodePro) and compensation (ConvertedComp)."
   ]
  },
  {
   "cell_type": "code",
   "execution_count": 22,
   "id": "6245ab79",
   "metadata": {},
   "outputs": [
    {
     "data": {
      "image/png": "[encoded data removed]",
      "text/plain": [
       "<Figure size 432x288 with 1 Axes>"
      ]
     },
     "metadata": {
      "needs_background": "light"
     },
     "output_type": "display_data"
    },
    {
     "data": {
      "image/png": "[encoded data removed]",
      "text/plain": [
       "<Figure size 432x288 with 1 Axes>"
      ]
     },
     "metadata": {
      "needs_background": "light"
     },
     "output_type": "display_data"
    },
    {
     "data": {
      "text/plain": [
       "<Figure size 432x288 with 0 Axes>"
      ]
     },
     "metadata": {},
     "output_type": "display_data"
    }
   ],
   "source": [
    "df4 = df[['Year','YearsCodePro','ConvertedComp']]\n",
    " \n",
    "experience= sns.boxplot(x=\"Year\", y=\"YearsCodePro\",\n",
    "            data=df4)\n",
    "plt.show()\n",
    "plt.clf()\n",
    " \n",
    "compensation= sns.boxplot(x=\"Year\", y=\"ConvertedComp\",\n",
    "            data=df4)\n",
    "plt.show()\n",
    "plt.clf()"
   ]
  },
  {
   "cell_type": "markdown",
   "id": "3860745f",
   "metadata": {},
   "source": [
    "Although there are outliers in the data, the variables seem to correlate with one another. Because of this correlation, we can fill in the missing values for these columns using Multiple Imputation."
   ]
  },
  {
   "cell_type": "code",
   "execution_count": 23,
   "id": "1af19191",
   "metadata": {},
   "outputs": [],
   "source": [
    "import numpy as np\n",
    "from sklearn.experimental import enable_iterative_imputer\n",
    "from sklearn.impute import IterativeImputer\n",
    "from sklearn.model_selection import train_test_split"
   ]
  },
  {
   "cell_type": "code",
   "execution_count": 24,
   "id": "70da80c5",
   "metadata": {},
   "outputs": [],
   "source": [
    "# isolate columns of interest\n",
    "df_toimpute= df[['YearsCodePro','ConvertedComp']]\n",
    " \n",
    "# assign a test DataFrame\n",
    "traindf, testdf= train_test_split(df_toimpute, train_size=0.1)\n",
    " \n",
    "# create model, iterates 20 times\n",
    "imp= IterativeImputer(max_iter=20, random_state=0)\n",
    " \n",
    "# fit the model\n",
    "imp.fit(df_toimpute)\n",
    " \n",
    "# transform the model on the entire dataset\n",
    "comp_by_exp= pd.DataFrame(np.round(imp.transform(df_toimpute), 0), columns=['YearsCodePro','ConvertedComp'])"
   ]
  },
  {
   "cell_type": "markdown",
   "id": "3a8aa468",
   "metadata": {},
   "source": [
    "Before we create our boxplot, we need to modify our comp_by_exp DataFrame to eliminate outliers and discretize the bins for years of experience."
   ]
  },
  {
   "cell_type": "code",
   "execution_count": 25,
   "id": "e7ae4ced",
   "metadata": {},
   "outputs": [
    {
     "data": {
      "image/png": "[encoded data removed]",
      "text/plain": [
       "<Figure size 432x288 with 1 Axes>"
      ]
     },
     "metadata": {
      "needs_background": "light"
     },
     "output_type": "display_data"
    },
    {
     "data": {
      "text/plain": [
       "<Figure size 432x288 with 0 Axes>"
      ]
     },
     "metadata": {},
     "output_type": "display_data"
    }
   ],
   "source": [
    "comp_by_exp= comp_by_exp.loc[comp_by_exp['ConvertedComp'] <= 150000]\n",
    "comp_by_exp['CodeYearBins']= pd.qcut(comp_by_exp['YearsCodePro'], q=5)\n",
    " \n",
    "sns.boxplot(x=\"CodeYearBins\", y=\"ConvertedComp\",\n",
    "            data=comp_by_exp)\n",
    "plt.show()\n",
    "plt.clf()"
   ]
  },
  {
   "cell_type": "markdown",
   "id": "ebed4f69",
   "metadata": {},
   "source": [
    "The resulting boxplot is a beautiful visual that illustrates the positive correlative relationship between compensation and experience!"
   ]
  }
 ],
 "metadata": {
  "kernelspec": {
   "display_name": "Python 3 (ipykernel)",
   "language": "python",
   "name": "python3"
  },
  "language_info": {
   "codemirror_mode": {
    "name": "ipython",
    "version": 3
   },
   "file_extension": ".py",
   "mimetype": "text/x-python",
   "name": "python",
   "nbconvert_exporter": "python",
   "pygments_lexer": "ipython3",
   "version": "3.9.12"
  }
 },
 "nbformat": 4,
 "nbformat_minor": 5
}
